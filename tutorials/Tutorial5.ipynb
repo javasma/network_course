{
 "cells": [
  {
   "cell_type": "code",
   "execution_count": null,
   "metadata": {
    "collapsed": true
   },
   "outputs": [],
   "source": [
    "import matplotlib.pyplot as plt\n",
    "import seaborn as sns\n",
    "import scipy.stats as sc\n",
    "\n",
    "\n",
    "%matplotlib inline\n"
   ]
  },
  {
   "cell_type": "markdown",
   "metadata": {},
   "source": [
    "## Execute the cell below "
   ]
  },
  {
   "cell_type": "code",
   "execution_count": null,
   "metadata": {},
   "outputs": [],
   "source": [
    "t_x = []\n",
    "b_x = []\n",
    "b_y = []\n",
    "for i in range(15):\n",
    "    x = sc.norm.rvs(loc = 0, scale = i, size = 20*i)\n",
    "    t_x.append(x)\n",
    "    if i > 3 and i%2==1:\n",
    "        for n in range(i):\n",
    "            b_y.append(i+0.3)\n",
    "        b_x += [x for x in sc.norm.rvs(loc = 0, scale = i/1.4, size = i)]\n",
    "\n",
    "sns.set(style=\"whitegrid\")\n",
    "sns.set(rc={'axes.facecolor':'#40B9D4', 'figure.facecolor':'#40B9D4'})\n",
    "f, ax = plt.subplots(figsize=(11, 16))\n",
    "ax.grid(False)\n",
    "\n",
    "plt.plot([0,0],[0,16], color = \"#5A463C\", lw = 8)\n",
    "plt.plot([0],[0],      color = \"#F8B100\", marker = '*', ms=40)\n",
    "\n",
    "sns.swarmplot(data=t_x, orient = 'h', color = '#005564', size = 6, linewidth=0, edgecolor = '#005564', marker = 'o', alpha = 0.7)\n",
    "\n",
    "kws = {'markersize':22, 'marker':'o', 'linestyle':''}\n",
    "plt.plot(b_x[::2], b_y[::2] , color = \"#FFD700\", **kws)\n",
    "plt.plot(b_x[1::2],b_y[1::2], color = \"#8C0E0E\", **kws)\n",
    "\n",
    "kws = {'color':\"white\",'marker':'o','linestyle':''}\n",
    "plt.plot(sc.uniform.rvs(loc=-50, scale=100, size=500),sc.uniform.rvs(loc=-5, scale=21,  size=500),  ms=2,**kws)\n",
    "plt.plot(sc.uniform.rvs(loc=-50, scale=100, size=500),sc.uniform.rvs(loc=16, scale=0.25, size=500), ms=5,**kws)\n",
    "\n",
    "plt.axis([-50, 50, 20, -5])\n",
    "f.get_axes()[0].set_yticklabels([])\n",
    "f.get_axes()[0].set_xticklabels([])\n",
    "\n",
    "t1=u\"\\u004D\\u0045\\u0052\\u0052\\u0059 \\u0058\\u002D\\u004D\\u0041\\u0053\"\n",
    "t2=u\"...\\u0041\\u004E\\u0044\\u0020\\u0041\\u0020\\u0048\\u0041\\u0050\\u0050\\u0059\\u0020\\u004E\\u0045\\u0057\\u0020\\u0059\\u0045\\u0041\\u0052\\u0021\"\n",
    "\n",
    "kws = {'color' : 'white', 'verticalalignment':'center', 'horizontalalignment':'center','fontsize':25}\n",
    "plt.annotate(t1,(0,-2), **kws)\n",
    "plt.annotate(t2,(0,18), **kws)\n",
    "\n",
    "plt.show()"
   ]
  },
  {
   "cell_type": "code",
   "execution_count": null,
   "metadata": {},
   "outputs": [],
   "source": []
  },
  {
   "cell_type": "code",
   "execution_count": null,
   "metadata": {},
   "outputs": [],
   "source": []
  }
 ],
 "metadata": {
  "kernelspec": {
   "display_name": "Python 3.7.0 64-bit",
   "language": "python",
   "name": "python3"
  },
  "language_info": {
   "codemirror_mode": {
    "name": "ipython",
    "version": 3
   },
   "file_extension": ".py",
   "mimetype": "text/x-python",
   "name": "python",
   "nbconvert_exporter": "python",
   "pygments_lexer": "ipython3",
   "version": "3.7.0"
  },
  "vscode": {
   "interpreter": {
    "hash": "e774977668b7c0ae8309835a5187aa7fbf7669e7d0bb59755bc63e573643edcd"
   }
  }
 },
 "nbformat": 4,
 "nbformat_minor": 2
}
