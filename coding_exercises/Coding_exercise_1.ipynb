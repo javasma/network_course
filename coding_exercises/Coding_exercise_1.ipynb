{
 "cells": [
  {
   "cell_type": "code",
   "execution_count": 1,
   "metadata": {},
   "outputs": [],
   "source": [
    "import networkx as nx\n",
    "import numpy as np\n",
    "import itertools as it\n",
    "import matplotlib.pyplot as plt\n",
    "%matplotlib inline"
   ]
  },
  {
   "cell_type": "markdown",
   "metadata": {},
   "source": [
    "---\n",
    "# EXERCISE 1\n",
    "In the context of trees (acyclic networks), a node with degree 1 is called a *leaf*. \n",
    "\n",
    "For the purpose of this exercise we will call all nodes leafes if they have only one single neighbor. \n",
    "\n",
    "(i) Write a function named `get_leaves` that takes a graph as an argument, loops through the nodes, and returns a list of nodes with degree 1.  (3pts)"
   ]
  },
  {
   "cell_type": "code",
   "execution_count": 29,
   "metadata": {
    "scrolled": true
   },
   "outputs": [],
   "source": [
    "def get_leaves(G):\n",
    "  return [i for i in G.nodes() if G.degree(i) == 1]\n",
    "  \n"
   ]
  },
  {
   "cell_type": "code",
   "execution_count": 30,
   "metadata": {
    "scrolled": true
   },
   "outputs": [
    {
     "name": "stdout",
     "output_type": "stream",
     "text": [
      "['b', 'c']\n"
     ]
    }
   ],
   "source": [
    "# example Graph\n",
    "G = nx.Graph()\n",
    "G.add_edges_from([\n",
    "        ('a', 'b'),\n",
    "        ('a', 'd'),\n",
    "        ('c', 'd'),\n",
    "    ])\n",
    "\n",
    "print(get_leaves(G))\n",
    "\n",
    "\n"
   ]
  },
  {
   "cell_type": "markdown",
   "metadata": {},
   "source": [
    "(ii) Generate a second graph on your own and test your function again. (1pt)"
   ]
  },
  {
   "cell_type": "code",
   "execution_count": 4,
   "metadata": {},
   "outputs": [],
   "source": [
    "# try out your function with another Graph made by yourself\n"
   ]
  },
  {
   "cell_type": "markdown",
   "metadata": {},
   "source": [
    "---"
   ]
  },
  {
   "cell_type": "markdown",
   "metadata": {},
   "source": [
    "# Some more Python functionalities \n",
    "\n",
    "that might appear to be useful. \n",
    "\n",
    "You can skip this part if your are familiar with these concepts and solve the next exercise right away."
   ]
  },
  {
   "cell_type": "markdown",
   "metadata": {},
   "source": [
    "### comprehensions\n",
    "\n",
    "Often we have one sequence of values and we want to generate a new sequence by applying an operation to each item in the first. List comprehensions and generator expressions are compact ways to do this.\n",
    "\n",
    "List comprehensions are specified inside square brackets, and immediately produce a list of the result."
   ]
  },
  {
   "cell_type": "code",
   "execution_count": 31,
   "metadata": {},
   "outputs": [
    {
     "name": "stdout",
     "output_type": "stream",
     "text": [
      "['SPIDER', 'Y', 'BANANA']\n"
     ]
    }
   ],
   "source": [
    "items = ['spider', 'y', 'banana']\n",
    "print([item.upper() for item in items])"
   ]
  },
  {
   "cell_type": "code",
   "execution_count": 32,
   "metadata": {},
   "outputs": [],
   "source": [
    "# easy functions with comprehensions:\n",
    "\n",
    "x = np.arange(0,10,.2) # generates an array running from 0 to 10-0.2 in 0.2 steps\n",
    "\n",
    "y = [i*i for i in x]   # square all values of x and store them as y\n",
    "y = [np.sqrt(i) for i in x]   # square root all values of x and store them as y\n",
    "y = [np.exp(i) for i in x]   # exp(x) for all values of x and store them as y\n",
    "\n",
    "# etc\n",
    "\n"
   ]
  },
  {
   "cell_type": "markdown",
   "metadata": {},
   "source": [
    "In the context of NetworkX, this is often used to do something with the node or edge lists:"
   ]
  },
  {
   "cell_type": "code",
   "execution_count": 33,
   "metadata": {},
   "outputs": [
    {
     "name": "stdout",
     "output_type": "stream",
     "text": [
      "['a', 'b', 'd', 'c']\n",
      "[2, 1, 2, 1]\n"
     ]
    }
   ],
   "source": [
    "print(G.nodes())\n",
    "print([G.degree(n) for n in G.nodes()])"
   ]
  },
  {
   "cell_type": "markdown",
   "metadata": {},
   "source": [
    "### Node names\n",
    "\n",
    "The node names don't have to be single characters -- they can be strings or integers or any immutable object, and the types can be mixed. The example below uses strings and integers for names."
   ]
  },
  {
   "cell_type": "code",
   "execution_count": 34,
   "metadata": {},
   "outputs": [
    {
     "data": {
      "image/png": "[encoded data removed]",
      "text/plain": [
       "<Figure size 640x480 with 1 Axes>"
      ]
     },
     "metadata": {},
     "output_type": "display_data"
    }
   ],
   "source": [
    "G = nx.Graph()\n",
    "\n",
    "G.add_nodes_from(['cat','dog','virus',13])\n",
    "\n",
    "G.add_edge('cat','dog')\n",
    "\n",
    "nx.draw(G, with_labels=True, font_color='white', node_size=1000)"
   ]
  },
  {
   "cell_type": "markdown",
   "metadata": {},
   "source": [
    "### Adjacency lists\n",
    "\n",
    "One compact way to represent a graph is an adjacency list. This is most useful for unweighted graphs, directed or undirected. In an adjacency list, each line contains some number of node names. The first node name is the \"source\" and each other node name on the line is a \"target\". For instance, given the following adjacency list:\n",
    "```\n",
    "a d e\n",
    "b c\n",
    "c\n",
    "d\n",
    "e\n",
    "```\n",
    "the edges are as follows:\n",
    "```\n",
    "(a, d)\n",
    "(a, e)\n",
    "(b, c)\n",
    "```\n",
    "The nodes on their own line exist so that we are sure to include any singleton nodes. Note that if our graph is undirected, we only need to specify one direction for each edge. Importantly, whether the graph is directed or undirected is often not contained in the file itself -- you have to infer it. This is one limitation of the format.\n",
    "\n",
    "In the `datasets` directory, there is a file called `friends.adjlist`. Please find how to open it in the `Python_tutorial` discussed in our first session."
   ]
  },
  {
   "cell_type": "code",
   "execution_count": 35,
   "metadata": {},
   "outputs": [],
   "source": [
    "path= \"../data/\""
   ]
  },
  {
   "cell_type": "code",
   "execution_count": 36,
   "metadata": {},
   "outputs": [
    {
     "name": "stdout",
     "output_type": "stream",
     "text": [
      "George Frank Dennis\n",
      "Dennis Claire Esther\n",
      "Claire Frank Alice Esther\n",
      "Bob Alice\n",
      "Frank Alice\n",
      "Alice\n",
      "Esther\n",
      "Shelly\n",
      "\n"
     ]
    }
   ],
   "source": [
    "print(open(path + 'friends.adjlist').read())"
   ]
  },
  {
   "cell_type": "markdown",
   "metadata": {},
   "source": [
    "NetworkX provides a way to read a graph from an adjacency list: `nx.read_adjlist()`. We will name this graph SG, for social graph."
   ]
  },
  {
   "cell_type": "code",
   "execution_count": 37,
   "metadata": {},
   "outputs": [],
   "source": [
    "SG = nx.read_adjlist(path + 'friends.adjlist')"
   ]
  },
  {
   "cell_type": "markdown",
   "metadata": {},
   "source": [
    "Visualization"
   ]
  },
  {
   "cell_type": "code",
   "execution_count": 38,
   "metadata": {},
   "outputs": [
    {
     "data": {
      "image/png": "[encoded data removed]",
      "text/plain": [
       "<Figure size 640x480 with 1 Axes>"
      ]
     },
     "metadata": {},
     "output_type": "display_data"
    }
   ],
   "source": [
    "nx.draw(SG, node_size=1800, node_color='lightblue', with_labels=True)"
   ]
  },
  {
   "cell_type": "markdown",
   "metadata": {},
   "source": [
    "---\n",
    "# EXERCISE 2\n",
    "\n",
    "(i) Write a function max_degree that takes a graph as its argument, and returns the name and degree of the node with highest degree. (2 pts)"
   ]
  },
  {
   "cell_type": "code",
   "execution_count": null,
   "metadata": {
    "scrolled": false
   },
   "outputs": [],
   "source": [
    "def max_degree(G):\n",
    "  maxi = max([G.degree(i) for i in G.nodes()])"
   ]
  },
  {
   "cell_type": "markdown",
   "metadata": {},
   "source": [
    "load the `friends` network (you can find in the `Python_tutorial` how to do that)"
   ]
  },
  {
   "cell_type": "code",
   "execution_count": 45,
   "metadata": {
    "scrolled": false
   },
   "outputs": [
    {
     "name": "stdout",
     "output_type": "stream",
     "text": [
      "[('George', 2), ('Frank', 3), ('Dennis', 3), ('Claire', 4), ('Esther', 2), ('Alice', 3), ('Bob', 1), ('Shelly', 0)]\n"
     ]
    }
   ],
   "source": [
    "SG = nx.read_adjlist(path + 'friends.adjlist')\n",
    "print(max_degree(SG)) "
   ]
  },
  {
   "cell_type": "markdown",
   "metadata": {},
   "source": [
    "\n",
    "\n",
    "ii) Write a function called `mutual_friends` that takes a graph and two nodes as arguments, and returns a list (or set) of nodes that are linked to both given nodes. For example, in the graph `SG` drawn above,\n",
    "\n",
    "    mutual_friends(SG, 'Alice', 'Claire') == ['Frank']\n",
    "\n",
    "an empty list or set should be returned in the case where two nodes have no mutual friends, e.g. George and Bob in `SG` drawn above. (4 pts)"
   ]
  },
  {
   "cell_type": "code",
   "execution_count": null,
   "metadata": {
    "scrolled": false
   },
   "outputs": [],
   "source": [
    "def mutual_friends(G, node_1, node_2):"
   ]
  },
  {
   "cell_type": "code",
   "execution_count": null,
   "metadata": {
    "scrolled": true
   },
   "outputs": [],
   "source": [
    "SG = nx.read_adjlist(path + 'friends.adjlist')\n",
    "\n",
    "print(mutual_friends(SG, 'Alice', 'Claire')) \n",
    "print(mutual_friends(SG, 'George', 'Bob'))\n",
    "print(mutual_friends(SG, 'Claire', 'George'))"
   ]
  },
  {
   "cell_type": "markdown",
   "metadata": {},
   "source": [
    "iii) There is a famous dataset for networks called `karate club'. Find out how to load this dataset with the networkx module. \n",
    "\n",
    "Take the Karate network as an input for the two functions max_degree() and mutual_friends().\n",
    "\n",
    "Identify the node(s) with the highest degree and find with the latter at least one pair of nodes that have mutual friends and one pair without. (4 pts)\n",
    "\n",
    "---\n"
   ]
  },
  {
   "cell_type": "markdown",
   "metadata": {},
   "source": [
    "---\n",
    "# EXERCISE 3\n",
    "\n",
    "Write a function that gets a Graph object as input and \n",
    "\n",
    "returns the average degree and the standard deviation -\n",
    "\n",
    "Test your function with the karate network.\n",
    "\n",
    "Plot the degree distribution of the karate network, as described in the `Python_tutorial`. (6 pts)\n",
    "\n",
    "---"
   ]
  },
  {
   "cell_type": "markdown",
   "metadata": {},
   "source": []
  }
 ],
 "metadata": {
  "kernelspec": {
   "display_name": ".venv",
   "language": "python",
   "name": "python3"
  },
  "language_info": {
   "codemirror_mode": {
    "name": "ipython",
    "version": 3
   },
   "file_extension": ".py",
   "mimetype": "text/x-python",
   "name": "python",
   "nbconvert_exporter": "python",
   "pygments_lexer": "ipython3",
   "version": "3.12.12"
  }
 },
 "nbformat": 4,
 "nbformat_minor": 1
}
