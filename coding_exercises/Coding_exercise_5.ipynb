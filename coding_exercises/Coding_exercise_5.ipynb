{
 "cells": [
  {
   "cell_type": "code",
   "execution_count": 1,
   "metadata": {
    "collapsed": true
   },
   "outputs": [],
   "source": [
    "import matplotlib.pyplot as plt\n",
    "\n",
    "%matplotlib inline\n",
    "import networkx as nx\n"
   ]
  },
  {
   "cell_type": "markdown",
   "metadata": {},
   "source": [
    "Here is a little function that provides you with a handful of information about your current network"
   ]
  },
  {
   "cell_type": "code",
   "execution_count": 2,
   "metadata": {},
   "outputs": [],
   "source": [
    "\n",
    "def Ginfo(G):\n",
    "    info = []\n",
    "    info.append(f\"Graph Name: {G.name}\")\n",
    "    info.append(f\"Graph Type: {type(G).__name__}\")\n",
    "    info.append(f\"Number of Nodes: {G.number_of_nodes()}\")\n",
    "    info.append(f\"Number of Edges: {G.number_of_edges()}\")\n",
    "    info.append(f\"Density: {round(100. * nx.density(G), 3)} %\")\n",
    "\n",
    "    if nx.is_weighted(G):\n",
    "        info.append(f\"Weighted: Yes\")\n",
    "        avg_weighted_degree = sum(weight for u, v, weight in G.edges(data=True)) / G.number_of_nodes()\n",
    "        info.append(f\"Average Weighted Degree: {round(avg_weighted_degree, 2)}\")\n",
    "    else:\n",
    "        info.append(f\"Weighted: No\")\n",
    "        avg_degree = sum(dict(G.degree()).values()) / G.number_of_nodes()\n",
    "        info.append(f\"Average Degree: {round(avg_degree, 2)}\")\n",
    "\n",
    "    is_connected = nx.is_connected(G)\n",
    "    info.append(f\"Connected: {'Yes' if is_connected else 'No'}\")\n",
    "    num_components = nx.number_connected_components(G)\n",
    "    info.append(f\"Number of Connected Components: {num_components}\")\n",
    "\n",
    "    if not is_connected:\n",
    "        # Calculate diameter of the largest connected component\n",
    "        largest_cc = max(nx.connected_components(G), key=len)\n",
    "        subgraph = G.subgraph(largest_cc)\n",
    "        diameter = nx.diameter(subgraph)\n",
    "        info.append(f\"Diameter of Largest Connected Component: {diameter}\")\n",
    "        avgspl = nx.average_shortest_path_length(subgraph)\n",
    "        info.append(f\"<spl> of Largest Connected Component: {avgspl}\")\n",
    "\n",
    "    else:\n",
    "        diameter = nx.diameter(G)\n",
    "        info.append(f\"Diameter: {diameter}\")\n",
    "        avgspl = nx.average_shortest_path_length(G)\n",
    "        info.append(f\"<spl>: {avgspl}\")\n",
    "\n",
    "    info.append(f\"Directed: {'Yes' if G.is_directed() else 'No'}\")\n",
    "    \n",
    "    return print(\"\\n\".join(info))\n"
   ]
  },
  {
   "cell_type": "markdown",
   "metadata": {},
   "source": [
    "\n",
    "## robustness and vulnerablity"
   ]
  },
  {
   "cell_type": "markdown",
   "metadata": {},
   "source": [
    "Within the last coding exercise we have learned about centrality measures that indicate the structural importance of a node.\n",
    "Another way to think about the relative importance of nodes in a network is to measure how much it would damage the network structure if particular nodes were to be removed. In real life, node removal might be a person moving away and out of a social network, someone changing jobs and being removed from an email network, internet routers being attacked or powergrids being overloaded etc.\n",
    "\n",
    "Broadly, we consider two types of network damage: random failure and targeted attack. In a random failure, nodes are chosen randomly for removal. In a targeted attack, we will remove nodes based on their 'role' in the network, for example, removing nodes in decreasing order of their degree centrality.\n"
   ]
  },
  {
   "cell_type": "markdown",
   "metadata": {},
   "source": [
    "### Random failure\n",
    "\n",
    "Whenever we're going to engage in a distructive process, we want to make a copy of the network graph to attack so that we can easily get back to the original state:"
   ]
  },
  {
   "cell_type": "code",
   "execution_count": 4,
   "metadata": {},
   "outputs": [
    {
     "name": "stdout",
     "output_type": "stream",
     "text": [
      "Graph Name: Ejemplo\n",
      "Graph Type: Graph\n",
      "Number of Nodes: 100\n",
      "Number of Edges: 1065\n",
      "Density: 21.515 %\n",
      "Weighted: No\n",
      "Average Degree: 21.3\n",
      "Connected: Yes\n",
      "Number of Connected Components: 1\n",
      "Diameter: 3\n",
      "<spl>: 1.791111111111111\n",
      "Directed: No\n",
      "None\n"
     ]
    }
   ],
   "source": [
    "\n",
    "G_rnd = nx.gnp_random_graph(100,.2)\n",
    "largest_cc = max(nx.connected_components(G_rnd), key=len)\n",
    "G = nx.subgraph(G_rnd,largest_cc) \n",
    "G.name = \"Ejemplo\"\n",
    "print(Ginfo(G))\n",
    "\n",
    "C = G.copy()\n"
   ]
  },
  {
   "cell_type": "markdown",
   "metadata": {},
   "source": [
    "To simulate random failure, we randomly choose some node names and remove them from the graph. We can use `random.sample` to remove more than one node at at time. Note that we need to make a `list` of node names from which to randomly sample:"
   ]
  },
  {
   "cell_type": "code",
   "execution_count": 7,
   "metadata": {},
   "outputs": [
    {
     "name": "stdout",
     "output_type": "stream",
     "text": [
      "list of 2 random nodes to be removed\n",
      "[31, 77]\n"
     ]
    }
   ],
   "source": [
    "import random\n",
    "n = 2\n",
    "nodes_to_remove = random.sample(list(C.nodes), 2)\n",
    "print('list of %s random nodes to be removed' %n)\n",
    "print(nodes_to_remove)\n",
    "C.remove_nodes_from(nodes_to_remove)"
   ]
  },
  {
   "cell_type": "markdown",
   "metadata": {},
   "source": [
    "The full simulation is going to work like this, beginning from a fresh copy of the network:\n",
    "\n",
    "1. Measure size of the largest-connected component as compared to the original network size\n",
    "2. Select M nodes at random and remove them\n",
    "3. Repeat until there are less than M nodes\n",
    "\n",
    "We'll determine M from how many steps we want this process to take. Around 25 steps should be good, so:"
   ]
  },
  {
   "cell_type": "code",
   "execution_count": 12,
   "metadata": {},
   "outputs": [
    {
     "name": "stdout",
     "output_type": "stream",
     "text": [
      "# nodes to remove in each step: 4\n"
     ]
    }
   ],
   "source": [
    "number_of_steps = 25\n",
    "M = G.number_of_nodes() // number_of_steps\n",
    "print('# nodes to remove in each step: %s' %M)\n",
    "num_nodes_removed = range(0, G.number_of_nodes(), M)\n"
   ]
  },
  {
   "cell_type": "markdown",
   "metadata": {},
   "source": [
    "The loop is fairly simple. At each step, we need to record the fraction of remaining nodes in the lcc."
   ]
  },
  {
   "cell_type": "code",
   "execution_count": 13,
   "metadata": {},
   "outputs": [],
   "source": [
    "N = G.number_of_nodes()\n",
    "C = G.copy()\n",
    "relative_lcc_size = []\n",
    "for nodes_removed in num_nodes_removed:\n",
    "    # Measure the relative size of the network core\n",
    "    lcc = largest_cc = max(nx.connected_components(C), key=len)\n",
    "    lcc_share = len(lcc) / N\n",
    "    relative_lcc_size.append(lcc_share)\n",
    "    \n",
    "    # If there are more than M nodes, select M nodes at random and remove them\n",
    "    if C.number_of_nodes() > M:\n",
    "        nodes_to_remove = random.sample(list(C.nodes), M)\n",
    "        C.remove_nodes_from(nodes_to_remove)"
   ]
  },
  {
   "cell_type": "code",
   "execution_count": 14,
   "metadata": {},
   "outputs": [
    {
     "data": {
      "text/plain": [
       "[<matplotlib.lines.Line2D at 0x7fb890bddac8>]"
      ]
     },
     "execution_count": 14,
     "metadata": {},
     "output_type": "execute_result"
    },
    {
     "data": {
      "image/png": "[encoded data removed]",
      "text/plain": [
       "<Figure size 432x288 with 1 Axes>"
      ]
     },
     "metadata": {
      "needs_background": "light"
     },
     "output_type": "display_data"
    }
   ],
   "source": [
    "plt.title('Random failure')\n",
    "plt.xlabel('Number of nodes removed')\n",
    "plt.ylabel('Proportion of nodes in core')\n",
    "plt.plot(num_nodes_removed, relative_lcc_size, marker='o')"
   ]
  },
  {
   "cell_type": "markdown",
   "metadata": {},
   "source": [
    "# Targeted attack"
   ]
  },
  {
   "cell_type": "markdown",
   "metadata": {},
   "source": [
    "## Exercise 1 -- random network (10 pts)\n",
    "\n",
    "In simulating a targeted attack on the network, you will remove nodes based on their centrality, but unlike a random attack, you will target the most central nodes.\n",
    "However, keep in mind that the structural properties change after node removal! \n",
    "\n",
    "Consider the same random network used above for the random attack.\n",
    "\n",
    "Simulate a targeted attack to the most central nodes according to\n",
    "\n",
    "o nodes sorted by degree centrality \n",
    "\n",
    "o nodes sorted by closeness centrality\n",
    "\n",
    "o nodes sorted by betweeness centrality.\n",
    "\n",
    "Hint: Before each removal step, re-calculate the centrality of all nodes in the current network.\n",
    "\n",
    "Determine which kind of attack leads to the most vulnerable results by e.g. plotting them together in one figure.\n"
   ]
  },
  {
   "cell_type": "markdown",
   "metadata": {},
   "source": [
    "# Exercise 2 -- real-world data (8 pts)\n",
    "\n",
    "Simulate targeted attacks against the power grid of the American states in the west and find the most vulnerable nodes. (dataset: `powergrid.edgelist.txt`)\n",
    "\n",
    "Use only degree- and closeness centrality here. (Computing betweeness centrality is too expensive.)\n",
    "\n",
    "o First compare the set of the 5 highest-degree-nodes with the set of the highest-closeness-nodes. What do you notice?\n",
    "\n",
    "o Iterate through the node lists according to both centrality measures. You don't need to go through the complete node list. There is a maximal number of nodes to remove.\n",
    "\n",
    "o Use a meaningful step size M for calculating closeness centrality. It is computationally expensive, too.\n",
    "\n",
    "(My loop ran about 10 mins so don't panic if your script is a little busy finishing the task. However, it should also not run much longer. You can control it by setting the number of steps and the endpoint of your iteration.)\n",
    "\n",
    "o Compare your results together with random failure.\n",
    "\n",
    "\n"
   ]
  },
  {
   "cell_type": "code",
   "execution_count": null,
   "metadata": {},
   "outputs": [],
   "source": []
  },
  {
   "cell_type": "code",
   "execution_count": null,
   "metadata": {},
   "outputs": [],
   "source": []
  }
 ],
 "metadata": {
  "kernelspec": {
   "display_name": ".venv",
   "language": "python",
   "name": "python3"
  },
  "language_info": {
   "codemirror_mode": {
    "name": "ipython",
    "version": 3
   },
   "file_extension": ".py",
   "mimetype": "text/x-python",
   "name": "python",
   "nbconvert_exporter": "python",
   "pygments_lexer": "ipython3",
   "version": "3.12.12"
  }
 },
 "nbformat": 4,
 "nbformat_minor": 2
}
